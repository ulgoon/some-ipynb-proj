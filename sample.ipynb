{
 "cells": [
  {
   "cell_type": "code",
   "execution_count": 4,
   "id": "ac89a819-28aa-48b2-b543-5925aff61415",
   "metadata": {},
   "outputs": [],
   "source": [
    "import requests\n",
    "import shutil"
   ]
  },
  {
   "cell_type": "code",
   "execution_count": 6,
   "id": "d4f942e3-629c-484d-ac55-ce079f88426f",
   "metadata": {},
   "outputs": [],
   "source": [
    "img_path = 'https://images.pexels.com/photos/4390582/pexels-photo-4390582.jpeg'\n",
    "\n",
    "response = requests.get(img_path, stream=True)\n",
    "with open('./src/'+img_path.split('/')[-1], 'wb') as f:\n",
    "    shutil.copyfileobj(response.raw, f)"
   ]
  }
 ],
 "metadata": {
  "kernelspec": {
   "display_name": "Python 3 (ipykernel)",
   "language": "python",
   "name": "python3"
  },
  "language_info": {
   "codemirror_mode": {
    "name": "ipython",
    "version": 3
   },
   "file_extension": ".py",
   "mimetype": "text/x-python",
   "name": "python",
   "nbconvert_exporter": "python",
   "pygments_lexer": "ipython3",
   "version": "3.11.0"
  }
 },
 "nbformat": 4,
 "nbformat_minor": 5
}
